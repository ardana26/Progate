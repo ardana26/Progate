{
 "cells": [
  {
   "cell_type": "markdown",
   "id": "7b840a38",
   "metadata": {
    "heading_collapsed": true
   },
   "source": [
    "### Python Study I > Aplikasi Belanja"
   ]
  },
  {
   "cell_type": "code",
   "execution_count": 1,
   "id": "cc072b34",
   "metadata": {
    "hidden": true
   },
   "outputs": [
    {
     "name": "stdout",
     "output_type": "stream",
     "text": [
      "Mau berapa apel?: 4\n",
      "Anda akan membeli 4 apel\n",
      "Harga total adalah 8 dolar\n",
      "Anda telah membeli 4 apel\n",
      "Uang Anda tinggal 2 dolar\n"
     ]
    }
   ],
   "source": [
    "apple_price = 2\n",
    "money = 10\n",
    "\n",
    "input_count = int(input('Mau berapa apel?: '))\n",
    "total_price = apple_price * input_count\n",
    "\n",
    "print('Anda akan membeli ' + str(input_count) + ' apel')\n",
    "print('Harga total adalah ' + str(total_price) + ' dolar')\n",
    "\n",
    "print('Anda telah membeli %d apel' %input_count)\n",
    "if money > total_price:\n",
    "    print('Uang Anda tinggal %d dolar' %(money-total_price))\n",
    "elif money == total_price:\n",
    "    print('Dompet Anda kosong')\n",
    "else:\n",
    "    print('Uang Anda tidak mencukupi')\n",
    "    print('Uang Anda tidak dapet membeli apel sebanyak itu')"
   ]
  },
  {
   "cell_type": "markdown",
   "id": "56c3f986",
   "metadata": {
    "heading_collapsed": true
   },
   "source": [
    "### Python Study II > Aplikasi Shopping"
   ]
  },
  {
   "cell_type": "code",
   "execution_count": 2,
   "id": "1c480907",
   "metadata": {
    "hidden": true
   },
   "outputs": [
    {
     "name": "stdout",
     "output_type": "stream",
     "text": [
      "--------------------------------------------------\n",
      "Anda memiliki 20 dolar di dompet Anda\n",
      "Harga setiap apel 2 dolar\n",
      "Mau berapa apel?: 2\n",
      "Anda akan membeli 2 apel\n",
      "Harga total adalah 4 dolar\n",
      "Anda telah membeli 2 apel\n",
      "--------------------------------------------------\n",
      "Anda memiliki 16 dolar di dompet Anda\n",
      "Harga setiap pisang 4 dolar\n",
      "Mau berapa pisang?: 2\n",
      "Anda akan membeli 2 pisang\n",
      "Harga total adalah 8 dolar\n",
      "Anda telah membeli 2 pisang\n",
      "--------------------------------------------------\n",
      "Anda memiliki 8 dolar di dompet Anda\n",
      "Harga setiap jeruk 6 dolar\n",
      "Mau berapa jeruk?: 2\n",
      "Anda akan membeli 2 jeruk\n",
      "Harga total adalah 12 dolar\n",
      "Uang Anda tidak mencukupi\n",
      "Anda tidak dapat membeli jeruk sebanyak itu\n",
      "Uang Anda tinggal 8 dolar\n"
     ]
    }
   ],
   "source": [
    "money = 20\n",
    "items = {\n",
    "    'apel': 2,\n",
    "    'pisang': 4,\n",
    "    'jeruk': 6\n",
    "}\n",
    "\n",
    "for item_name in items:\n",
    "    print('--------------------------------------------------')\n",
    "    print('Anda memiliki ' + str(money) + ' dolar di dompet Anda')\n",
    "    print('Harga setiap ' + item_name + ' ' + str(items[item_name]) + ' dolar')\n",
    "    \n",
    "    input_count = int(input('Mau berapa ' + item_name + '?: '))\n",
    "    print('Anda akan membeli ' + str(input_count) + ' ' + item_name)\n",
    "    \n",
    "    total_price = items[item_name] * input_count\n",
    "    print('Harga total adalah ' + str(total_price) + ' dolar')\n",
    "    \n",
    "    if money >= total_price:\n",
    "        print('Anda telah membeli ' + str(input_count) + ' ' + item_name)\n",
    "        money -= total_price\n",
    "        \n",
    "        # Ketika money sama dengan 0, cetak 'Dompet Anda kosong' dan hentikan loop01\n",
    "        if money == 0:\n",
    "            print('Dompet Anda kosong')\n",
    "            break    \n",
    "    else:\n",
    "        print('Uang Anda tidak mencukupi')\n",
    "        print('Anda tidak dapat membeli ' + item_name + ' sebanyak itu')\n",
    "        \n",
    "        \n",
    "# Menggunakan variable money dan tipe conversion, cetak 'Uang Anda tinggal ___ dolar'\n",
    "print('Uang Anda tinggal ' + str(money) + ' dolar')"
   ]
  },
  {
   "cell_type": "markdown",
   "id": "1be49324",
   "metadata": {
    "heading_collapsed": true
   },
   "source": [
    "### Python Study III > Aplikasi Batu, Gunting, Kertas"
   ]
  },
  {
   "cell_type": "code",
   "execution_count": 7,
   "id": "2972b503",
   "metadata": {
    "hidden": true
   },
   "outputs": [
    {
     "name": "stdout",
     "output_type": "stream",
     "text": [
      "Memulai permainan Batu Kertas Gunting!\n",
      "Masukkan nama Anda: Ken\n",
      "Pilih tangan: (0: Batu, 1: Kertas, 2: Gunting\n",
      "Masukkan nomor (0-2): 1\n",
      "Ken memilih: Gunting\n",
      "Komputer memilih: Kertas\n",
      "Hasil: Kalah\n"
     ]
    }
   ],
   "source": [
    "import random\n",
    "\n",
    "def validate(hand):\n",
    "    if (hand < 0) or (hand > 2):\n",
    "        return False\n",
    "    return True\n",
    "\n",
    "def print_hand(name, hand):\n",
    "    hands = ['Batu', 'Gunting', 'Kertas']\n",
    "    print(name + ' memilih: ' + hands[hand])\n",
    "\n",
    "def judge(player, computer):\n",
    "    if player == computer:\n",
    "        return 'Seri'\n",
    "    elif (player == 0) and (computer == 1):\n",
    "        return 'Kalah'\n",
    "    elif (player == 1) and (computer == 2):\n",
    "        return 'Kalah'\n",
    "    elif (player == 2) and (computer == 0):\n",
    "        return 'Kalah'\n",
    "    else:\n",
    "        return 'Menang'\n",
    "    \n",
    "\n",
    "print('Memulai permainan Batu Kertas Gunting!')\n",
    "player_name = input('Masukkan nama Anda: ')\n",
    "\n",
    "print('Pilih tangan: (0: Batu, 1: Kertas, 2: Gunting')\n",
    "player_hand = int(input('Masukkan nomor (0-2): '))\n",
    "\n",
    "if validate(player_hand):\n",
    "    # Tetapkan nomor acak antara 0 dan 2 ke computer_hand menggunakan randint\n",
    "    computer_hand = random.randint(0, 2)\n",
    "    \n",
    "    print_hand(player_name, player_hand)\n",
    "    print_hand('Komputer', computer_hand)\n",
    "    \n",
    "    result = judge(player_hand, computer_hand)\n",
    "    print('Hasil: ' + result)\n",
    "    \n",
    "else:\n",
    "    print('Mohon masukkan nomor yang benar')"
   ]
  },
  {
   "cell_type": "markdown",
   "id": "ee89dd9c",
   "metadata": {
    "heading_collapsed": true
   },
   "source": [
    "### Python Study IV > Sistem Pemesanan Makanan"
   ]
  },
  {
   "cell_type": "code",
   "execution_count": 12,
   "id": "4e39ba53",
   "metadata": {
    "hidden": true
   },
   "outputs": [
    {
     "name": "stdout",
     "output_type": "stream",
     "text": [
      "0. Roti Lapis: $5\n",
      "1. Kue Coklat: $4\n",
      "2. Kopi: $3\n",
      "3. Jus Jeruk: $2\n",
      "--------------------\n",
      "Masukkan nomor menu: 3\n",
      "Item yang di pilih: Jus Jeruk\n",
      "Jumlah pesanan (diskon 10% untuk 3 atau lebih): 4\n",
      "Totak harga adalah $7\n"
     ]
    }
   ],
   "source": [
    "class MenuItem:\n",
    "    def __init__(self, name, price):\n",
    "        self.name = name\n",
    "        self.price = price\n",
    "    \n",
    "    def info(self):\n",
    "        return self.name + ': $' + str(self.price)\n",
    "    \n",
    "    def get_total_price(self, count):\n",
    "        total_price = self.price * count\n",
    "        \n",
    "        if count >= 3:\n",
    "            total_price *= 0.9\n",
    "            \n",
    "        return round(total_price)\n",
    "        \n",
    "        \n",
    "        \n",
    "menu_item1 = MenuItem('Roti Lapis', 5)\n",
    "menu_item2 = MenuItem('Kue Coklat', 4)\n",
    "menu_item3 = MenuItem('Kopi', 3)\n",
    "menu_item4 = MenuItem('Jus Jeruk', 2)\n",
    "\n",
    "menu_items = [\n",
    "    menu_item1, menu_item2, menu_item3, menu_item4\n",
    "]\n",
    "\n",
    "index = 0\n",
    "for menu_item in menu_items:\n",
    "    print(str(index) + '. ' + menu_item.info())\n",
    "    index += 1\n",
    "    \n",
    "print('--------------------')\n",
    "order = int(input('Masukkan nomor menu: '))\n",
    "selected_menu = menu_items[order]\n",
    "print('Item yang di pilih: ' + selected_menu.name)\n",
    "\n",
    "count = int(input('Jumlah pesanan (diskon 10% untuk 3 atau lebih): '))\n",
    "\n",
    "result = selected_menu.get_total_price(count)\n",
    "\n",
    "print('Totak harga adalah $' + str(result))"
   ]
  },
  {
   "cell_type": "markdown",
   "id": "e2ff9a8f",
   "metadata": {
    "heading_collapsed": true
   },
   "source": [
    "### Python Study V > Aplikasi Praktis"
   ]
  },
  {
   "cell_type": "code",
   "execution_count": 20,
   "id": "64433452",
   "metadata": {
    "hidden": true
   },
   "outputs": [
    {
     "name": "stdout",
     "output_type": "stream",
     "text": [
      "Makanan\n",
      "0. Roti Lapis: $5 (330kkal)\n",
      "1. Kue Coklat: $4 (450kkal)\n",
      "2. Kue Sus: $2 (180kkal)\n",
      "Minuman\n",
      "0. Kopi: $3 (180mL)\n",
      "1. Jus Jeruk: $2 (350mL)\n",
      "2. Espresso: $3 (30mL)\n",
      "--------------------\n",
      "Masukkan nomor makanan: 1\n",
      "Masukkan nomor minuman: 2\n",
      "Mau berapa paket makanan? (Diskon 10% untuk 3 atau lebih): 4\n",
      "Total harga adalah $25\n"
     ]
    }
   ],
   "source": [
    "class MenuItem:\n",
    "    def __init__(self, name, price):\n",
    "        self.name = name\n",
    "        self.price = price\n",
    "\n",
    "    def info(self):\n",
    "        return self.name + ': $' + str(self.price)\n",
    "\n",
    "    def get_total_price(self, count):\n",
    "        total_price = self.price * count\n",
    "\n",
    "        if count >= 3:\n",
    "            total_price *= 0.9\n",
    "\n",
    "        return round(total_price)\n",
    "\n",
    "\n",
    "class Food(MenuItem):\n",
    "    def __init__(self, name, price, calorie_count):\n",
    "        super().__init__(name, price)\n",
    "        self.calorie_count = calorie_count\n",
    "\n",
    "    def info(self):\n",
    "        return self.name + ': $' + str(self.price) + ' (' + str(\n",
    "            self.calorie_count) + 'kkal)'\n",
    "\n",
    "    def calorie_info(self):\n",
    "        return 'kkal: ' + str(self.calorie_count)\n",
    "\n",
    "\n",
    "class Drink(MenuItem):\n",
    "    def __init__(self, name, price, volume):\n",
    "        super().__init__(name, price)\n",
    "        self.volume = volume\n",
    "\n",
    "    def info(self):\n",
    "        return self.name + ': $' + str(self.price) + ' (' + str(\n",
    "            self.volume) + 'mL)'\n",
    "\n",
    "\n",
    "food1 = Food('Roti Lapis', 5, 330)\n",
    "food2 = Food('Kue Coklat', 4, 450)\n",
    "food3 = Food('Kue Sus', 2, 180)\n",
    "\n",
    "foods = [food1, food2, food3]\n",
    "\n",
    "drink1 = Drink('Kopi', 3, 180)\n",
    "drink2 = Drink('Jus Jeruk', 2, 350)\n",
    "drink3 = Drink('Espresso', 3, 30)\n",
    "\n",
    "drinks = [drink1, drink2, drink3]\n",
    "\n",
    "print('Makanan')\n",
    "index = 0\n",
    "for food in foods:\n",
    "    print(str(index) + '. ' + food.info())\n",
    "    index += 1\n",
    "\n",
    "print('Minuman')\n",
    "index = 0\n",
    "for drink in drinks:\n",
    "    print(str(index) + '. ' + drink.info())\n",
    "    index += 1\n",
    "\n",
    "print('--------------------')\n",
    "\n",
    "food_order = int(input('Masukkan nomor makanan: '))\n",
    "selected_food = foods[food_order]\n",
    "\n",
    "drink_order = int(input('Masukkan nomor minuman: '))\n",
    "selected_drink = drinks[drink_order]\n",
    "\n",
    "count = int(\n",
    "    input('Mau berapa paket makanan? (Diskon 10% untuk 3 atau lebih): '))\n",
    "\n",
    "result = selected_food.get_total_price(count) + selected_drink.get_total_price(\n",
    "    count)\n",
    "\n",
    "print('Total harga adalah $' + str(result))"
   ]
  }
 ],
 "metadata": {
  "hide_input": false,
  "kernelspec": {
   "display_name": "Python 3 (ipykernel)",
   "language": "python",
   "name": "python3"
  },
  "language_info": {
   "codemirror_mode": {
    "name": "ipython",
    "version": 3
   },
   "file_extension": ".py",
   "mimetype": "text/x-python",
   "name": "python",
   "nbconvert_exporter": "python",
   "pygments_lexer": "ipython3",
   "version": "3.9.7"
  }
 },
 "nbformat": 4,
 "nbformat_minor": 5
}
